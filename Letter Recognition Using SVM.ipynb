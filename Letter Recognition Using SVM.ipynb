{
 "cells": [
  {
   "cell_type": "markdown",
   "metadata": {},
   "source": [
    "# Data Understanding\n"
   ]
  },
  {
   "cell_type": "markdown",
   "metadata": {},
   "source": [
    "We will build a non linear model(using non-linear kernels)and then find the optimal hyperparameters(using kernel,C,gamma)"
   ]
  },
  {
   "cell_type": "code",
   "execution_count": 56,
   "metadata": {},
   "outputs": [],
   "source": [
    "import pandas as pd\n",
    "import numpy as np\n",
    "import matplotlib.pyplot as plt\n",
    "import seaborn as sns\n",
    "import warnings\n",
    "warnings.filterwarnings(\"ignore\")\n",
    "from sklearn.svm import SVC\n",
    "from sklearn.model_selection import train_test_split\n",
    "from sklearn.model_selection import cross_val_score\n",
    "from sklearn.model_selection import GridSearchCV\n",
    "from sklearn import metrics\n",
    "from sklearn.model_selection import KFold\n",
    "from sklearn.metrics import confusion_matrix\n",
    "from sklearn.preprocessing import scale"
   ]
  },
  {
   "cell_type": "code",
   "execution_count": 3,
   "metadata": {},
   "outputs": [],
   "source": [
    "letters=pd.read_csv(\"letter-recognition.csv\")"
   ]
  },
  {
   "cell_type": "code",
   "execution_count": 6,
   "metadata": {},
   "outputs": [
    {
     "name": "stdout",
     "output_type": "stream",
     "text": [
      "Dimensions: (20000, 17)\n",
      "<class 'pandas.core.frame.DataFrame'>\n",
      "RangeIndex: 20000 entries, 0 to 19999\n",
      "Data columns (total 17 columns):\n",
      "letter    20000 non-null object\n",
      "xbox      20000 non-null int64\n",
      "ybox      20000 non-null int64\n",
      "width     20000 non-null int64\n",
      "height    20000 non-null int64\n",
      "onpix     20000 non-null int64\n",
      "xbar      20000 non-null int64\n",
      "ybar      20000 non-null int64\n",
      "x2bar     20000 non-null int64\n",
      "y2bar     20000 non-null int64\n",
      "xybar     20000 non-null int64\n",
      "x2ybar    20000 non-null int64\n",
      "xy2bar    20000 non-null int64\n",
      "xedge     20000 non-null int64\n",
      "xedgey    20000 non-null int64\n",
      "yedge     20000 non-null int64\n",
      "yedgex    20000 non-null int64\n",
      "dtypes: int64(16), object(1)\n",
      "memory usage: 2.6+ MB\n",
      "Data_info: None\n"
     ]
    }
   ],
   "source": [
    "# About the dataset\n",
    "print(\"Dimensions: {}\".format(letters.shape))\n",
    "\n",
    "print(\"Data_info: {}\".format(letters.info()))\n"
   ]
  },
  {
   "cell_type": "code",
   "execution_count": 8,
   "metadata": {},
   "outputs": [
    {
     "data": {
      "text/html": [
       "<div>\n",
       "<style scoped>\n",
       "    .dataframe tbody tr th:only-of-type {\n",
       "        vertical-align: middle;\n",
       "    }\n",
       "\n",
       "    .dataframe tbody tr th {\n",
       "        vertical-align: top;\n",
       "    }\n",
       "\n",
       "    .dataframe thead th {\n",
       "        text-align: right;\n",
       "    }\n",
       "</style>\n",
       "<table border=\"1\" class=\"dataframe\">\n",
       "  <thead>\n",
       "    <tr style=\"text-align: right;\">\n",
       "      <th></th>\n",
       "      <th>letter</th>\n",
       "      <th>xbox</th>\n",
       "      <th>ybox</th>\n",
       "      <th>width</th>\n",
       "      <th>height</th>\n",
       "      <th>onpix</th>\n",
       "      <th>xbar</th>\n",
       "      <th>ybar</th>\n",
       "      <th>x2bar</th>\n",
       "      <th>y2bar</th>\n",
       "      <th>xybar</th>\n",
       "      <th>x2ybar</th>\n",
       "      <th>xy2bar</th>\n",
       "      <th>xedge</th>\n",
       "      <th>xedgey</th>\n",
       "      <th>yedge</th>\n",
       "      <th>yedgex</th>\n",
       "    </tr>\n",
       "  </thead>\n",
       "  <tbody>\n",
       "    <tr>\n",
       "      <th>0</th>\n",
       "      <td>T</td>\n",
       "      <td>2</td>\n",
       "      <td>8</td>\n",
       "      <td>3</td>\n",
       "      <td>5</td>\n",
       "      <td>1</td>\n",
       "      <td>8</td>\n",
       "      <td>13</td>\n",
       "      <td>0</td>\n",
       "      <td>6</td>\n",
       "      <td>6</td>\n",
       "      <td>10</td>\n",
       "      <td>8</td>\n",
       "      <td>0</td>\n",
       "      <td>8</td>\n",
       "      <td>0</td>\n",
       "      <td>8</td>\n",
       "    </tr>\n",
       "    <tr>\n",
       "      <th>1</th>\n",
       "      <td>I</td>\n",
       "      <td>5</td>\n",
       "      <td>12</td>\n",
       "      <td>3</td>\n",
       "      <td>7</td>\n",
       "      <td>2</td>\n",
       "      <td>10</td>\n",
       "      <td>5</td>\n",
       "      <td>5</td>\n",
       "      <td>4</td>\n",
       "      <td>13</td>\n",
       "      <td>3</td>\n",
       "      <td>9</td>\n",
       "      <td>2</td>\n",
       "      <td>8</td>\n",
       "      <td>4</td>\n",
       "      <td>10</td>\n",
       "    </tr>\n",
       "    <tr>\n",
       "      <th>2</th>\n",
       "      <td>D</td>\n",
       "      <td>4</td>\n",
       "      <td>11</td>\n",
       "      <td>6</td>\n",
       "      <td>8</td>\n",
       "      <td>6</td>\n",
       "      <td>10</td>\n",
       "      <td>6</td>\n",
       "      <td>2</td>\n",
       "      <td>6</td>\n",
       "      <td>10</td>\n",
       "      <td>3</td>\n",
       "      <td>7</td>\n",
       "      <td>3</td>\n",
       "      <td>7</td>\n",
       "      <td>3</td>\n",
       "      <td>9</td>\n",
       "    </tr>\n",
       "    <tr>\n",
       "      <th>3</th>\n",
       "      <td>N</td>\n",
       "      <td>7</td>\n",
       "      <td>11</td>\n",
       "      <td>6</td>\n",
       "      <td>6</td>\n",
       "      <td>3</td>\n",
       "      <td>5</td>\n",
       "      <td>9</td>\n",
       "      <td>4</td>\n",
       "      <td>6</td>\n",
       "      <td>4</td>\n",
       "      <td>4</td>\n",
       "      <td>10</td>\n",
       "      <td>6</td>\n",
       "      <td>10</td>\n",
       "      <td>2</td>\n",
       "      <td>8</td>\n",
       "    </tr>\n",
       "    <tr>\n",
       "      <th>4</th>\n",
       "      <td>G</td>\n",
       "      <td>2</td>\n",
       "      <td>1</td>\n",
       "      <td>3</td>\n",
       "      <td>1</td>\n",
       "      <td>1</td>\n",
       "      <td>8</td>\n",
       "      <td>6</td>\n",
       "      <td>6</td>\n",
       "      <td>6</td>\n",
       "      <td>6</td>\n",
       "      <td>5</td>\n",
       "      <td>9</td>\n",
       "      <td>1</td>\n",
       "      <td>7</td>\n",
       "      <td>5</td>\n",
       "      <td>10</td>\n",
       "    </tr>\n",
       "  </tbody>\n",
       "</table>\n",
       "</div>"
      ],
      "text/plain": [
       "  letter  xbox   ybox   width   height  onpix   xbar   ybar   x2bar  y2bar   \\\n",
       "0      T      2      8       3       5       1      8     13      0       6   \n",
       "1      I      5     12       3       7       2     10      5      5       4   \n",
       "2      D      4     11       6       8       6     10      6      2       6   \n",
       "3      N      7     11       6       6       3      5      9      4       6   \n",
       "4      G      2      1       3       1       1      8      6      6       6   \n",
       "\n",
       "   xybar   x2ybar  xy2bar  xedge   xedgey  yedge   yedgex  \n",
       "0       6      10       8       0       8       0       8  \n",
       "1      13       3       9       2       8       4      10  \n",
       "2      10       3       7       3       7       3       9  \n",
       "3       4       4      10       6      10       2       8  \n",
       "4       6       5       9       1       7       5      10  "
      ]
     },
     "execution_count": 8,
     "metadata": {},
     "output_type": "execute_result"
    }
   ],
   "source": [
    "letters.head()"
   ]
  },
  {
   "cell_type": "code",
   "execution_count": 9,
   "metadata": {},
   "outputs": [
    {
     "data": {
      "text/plain": [
       "Index(['letter', 'xbox ', 'ybox ', 'width ', 'height', 'onpix ', 'xbar ',\n",
       "       'ybar ', 'x2bar', 'y2bar ', 'xybar ', 'x2ybar', 'xy2bar', 'xedge ',\n",
       "       'xedgey', 'yedge ', 'yedgex'],\n",
       "      dtype='object')"
      ]
     },
     "execution_count": 9,
     "metadata": {},
     "output_type": "execute_result"
    }
   ],
   "source": [
    "letters.columns"
   ]
  },
  {
   "cell_type": "code",
   "execution_count": 12,
   "metadata": {},
   "outputs": [
    {
     "data": {
      "text/plain": [
       "Index(['letter', 'xbox', 'ybox', 'width', 'height', 'onpix', 'xbar', 'ybar',\n",
       "       'x2bar', 'y2bar', 'xybar', 'x2ybar', 'xy2bar', 'xedge', 'xedgey',\n",
       "       'yedge', 'yedgex'],\n",
       "      dtype='object')"
      ]
     },
     "execution_count": 12,
     "metadata": {},
     "output_type": "execute_result"
    }
   ],
   "source": [
    "# Removing the Spaceing in the columns names. \n",
    "letters.columns=['letter', 'xbox', 'ybox', 'width', 'height', 'onpix', 'xbar',\n",
    "       'ybar', 'x2bar', 'y2bar', 'xybar', 'x2ybar', 'xy2bar', 'xedge',\n",
    "       'xedgey', 'yedge', 'yedgex']\n",
    "\n",
    "letters.columns"
   ]
  },
  {
   "cell_type": "code",
   "execution_count": 21,
   "metadata": {},
   "outputs": [
    {
     "name": "stdout",
     "output_type": "stream",
     "text": [
      "['A', 'B', 'C', 'D', 'E', 'F', 'G', 'H', 'I', 'J', 'K', 'L', 'M', 'N', 'O', 'P', 'Q', 'R', 'S', 'T', 'U', 'V', 'W', 'X', 'Y', 'Z']\n"
     ]
    }
   ],
   "source": [
    "# Uniquely Sort the Array\n",
    "order_list=list(np.sort(letters.letter.unique()))\n",
    "print(order_list)"
   ]
  },
  {
   "cell_type": "code",
   "execution_count": 26,
   "metadata": {},
   "outputs": [
    {
     "data": {
      "text/plain": [
       "<matplotlib.axes._subplots.AxesSubplot at 0x16978ce3710>"
      ]
     },
     "execution_count": 26,
     "metadata": {},
     "output_type": "execute_result"
    },
    {
     "data": {
      "image/png": "[encoded data removed]",
      "text/plain": [
       "<Figure size 1152x288 with 1 Axes>"
      ]
     },
     "metadata": {},
     "output_type": "display_data"
    }
   ],
   "source": [
    "# Plots : how do various attribute vary with the letters\n",
    "plt.figure(figsize=(16,4))\n",
    "sns.barplot(x=\"letter\",y=\"xbox\",data=letters,order=order_list)"
   ]
  },
  {
   "cell_type": "code",
   "execution_count": 25,
   "metadata": {},
   "outputs": [
    {
     "data": {
      "text/plain": [
       "<matplotlib.axes._subplots.AxesSubplot at 0x16978702518>"
      ]
     },
     "execution_count": 25,
     "metadata": {},
     "output_type": "execute_result"
    },
    {
     "data": {
      "image/png": "[encoded data removed]",
      "text/plain": [
       "<Figure size 1152x288 with 1 Axes>"
      ]
     },
     "metadata": {},
     "output_type": "display_data"
    }
   ],
   "source": [
    "plt.figure(figsize=(16,4))\n",
    "sns.barplot(x=\"letter\",y=\"onpix\",data=letters,order=order_list)"
   ]
  },
  {
   "cell_type": "code",
   "execution_count": 33,
   "metadata": {},
   "outputs": [
    {
     "data": {
      "text/html": [
       "<div>\n",
       "<style scoped>\n",
       "    .dataframe tbody tr th:only-of-type {\n",
       "        vertical-align: middle;\n",
       "    }\n",
       "\n",
       "    .dataframe tbody tr th {\n",
       "        vertical-align: top;\n",
       "    }\n",
       "\n",
       "    .dataframe thead th {\n",
       "        text-align: right;\n",
       "    }\n",
       "</style>\n",
       "<table border=\"1\" class=\"dataframe\">\n",
       "  <thead>\n",
       "    <tr style=\"text-align: right;\">\n",
       "      <th></th>\n",
       "      <th>xbox</th>\n",
       "      <th>ybox</th>\n",
       "      <th>width</th>\n",
       "      <th>height</th>\n",
       "      <th>onpix</th>\n",
       "      <th>xbar</th>\n",
       "      <th>ybar</th>\n",
       "      <th>x2bar</th>\n",
       "      <th>y2bar</th>\n",
       "      <th>xybar</th>\n",
       "      <th>x2ybar</th>\n",
       "      <th>xy2bar</th>\n",
       "      <th>xedge</th>\n",
       "      <th>xedgey</th>\n",
       "      <th>yedge</th>\n",
       "      <th>yedgex</th>\n",
       "    </tr>\n",
       "    <tr>\n",
       "      <th>letter</th>\n",
       "      <th></th>\n",
       "      <th></th>\n",
       "      <th></th>\n",
       "      <th></th>\n",
       "      <th></th>\n",
       "      <th></th>\n",
       "      <th></th>\n",
       "      <th></th>\n",
       "      <th></th>\n",
       "      <th></th>\n",
       "      <th></th>\n",
       "      <th></th>\n",
       "      <th></th>\n",
       "      <th></th>\n",
       "      <th></th>\n",
       "      <th></th>\n",
       "    </tr>\n",
       "  </thead>\n",
       "  <tbody>\n",
       "    <tr>\n",
       "      <th>A</th>\n",
       "      <td>3.337136</td>\n",
       "      <td>6.975919</td>\n",
       "      <td>5.128010</td>\n",
       "      <td>5.178707</td>\n",
       "      <td>2.991128</td>\n",
       "      <td>8.851711</td>\n",
       "      <td>3.631179</td>\n",
       "      <td>2.755387</td>\n",
       "      <td>2.043093</td>\n",
       "      <td>7.802281</td>\n",
       "      <td>2.338403</td>\n",
       "      <td>8.465146</td>\n",
       "      <td>2.771863</td>\n",
       "      <td>6.321926</td>\n",
       "      <td>2.875792</td>\n",
       "      <td>7.468948</td>\n",
       "    </tr>\n",
       "    <tr>\n",
       "      <th>B</th>\n",
       "      <td>3.985640</td>\n",
       "      <td>6.962141</td>\n",
       "      <td>5.088773</td>\n",
       "      <td>5.169713</td>\n",
       "      <td>4.596606</td>\n",
       "      <td>7.671018</td>\n",
       "      <td>7.062663</td>\n",
       "      <td>5.366841</td>\n",
       "      <td>5.571802</td>\n",
       "      <td>7.954308</td>\n",
       "      <td>5.506527</td>\n",
       "      <td>6.652742</td>\n",
       "      <td>3.117493</td>\n",
       "      <td>7.919060</td>\n",
       "      <td>6.612272</td>\n",
       "      <td>9.100522</td>\n",
       "    </tr>\n",
       "    <tr>\n",
       "      <th>C</th>\n",
       "      <td>4.031250</td>\n",
       "      <td>7.063859</td>\n",
       "      <td>4.701087</td>\n",
       "      <td>5.296196</td>\n",
       "      <td>2.775815</td>\n",
       "      <td>5.437500</td>\n",
       "      <td>7.627717</td>\n",
       "      <td>5.927989</td>\n",
       "      <td>7.177989</td>\n",
       "      <td>8.773098</td>\n",
       "      <td>7.494565</td>\n",
       "      <td>11.947011</td>\n",
       "      <td>1.991848</td>\n",
       "      <td>8.876359</td>\n",
       "      <td>4.080163</td>\n",
       "      <td>8.555707</td>\n",
       "    </tr>\n",
       "    <tr>\n",
       "      <th>D</th>\n",
       "      <td>4.023602</td>\n",
       "      <td>7.244720</td>\n",
       "      <td>5.170186</td>\n",
       "      <td>5.288199</td>\n",
       "      <td>4.026087</td>\n",
       "      <td>7.539130</td>\n",
       "      <td>6.806211</td>\n",
       "      <td>5.921739</td>\n",
       "      <td>6.508075</td>\n",
       "      <td>8.166460</td>\n",
       "      <td>5.111801</td>\n",
       "      <td>5.750311</td>\n",
       "      <td>3.365217</td>\n",
       "      <td>7.813665</td>\n",
       "      <td>3.971429</td>\n",
       "      <td>7.628571</td>\n",
       "    </tr>\n",
       "    <tr>\n",
       "      <th>E</th>\n",
       "      <td>3.727865</td>\n",
       "      <td>6.944010</td>\n",
       "      <td>4.756510</td>\n",
       "      <td>5.201823</td>\n",
       "      <td>3.679688</td>\n",
       "      <td>5.966146</td>\n",
       "      <td>7.352865</td>\n",
       "      <td>4.223958</td>\n",
       "      <td>7.585938</td>\n",
       "      <td>8.507812</td>\n",
       "      <td>6.242188</td>\n",
       "      <td>10.341146</td>\n",
       "      <td>2.127604</td>\n",
       "      <td>8.298177</td>\n",
       "      <td>6.022135</td>\n",
       "      <td>8.506510</td>\n",
       "    </tr>\n",
       "  </tbody>\n",
       "</table>\n",
       "</div>"
      ],
      "text/plain": [
       "            xbox      ybox     width    height     onpix      xbar      ybar  \\\n",
       "letter                                                                         \n",
       "A       3.337136  6.975919  5.128010  5.178707  2.991128  8.851711  3.631179   \n",
       "B       3.985640  6.962141  5.088773  5.169713  4.596606  7.671018  7.062663   \n",
       "C       4.031250  7.063859  4.701087  5.296196  2.775815  5.437500  7.627717   \n",
       "D       4.023602  7.244720  5.170186  5.288199  4.026087  7.539130  6.806211   \n",
       "E       3.727865  6.944010  4.756510  5.201823  3.679688  5.966146  7.352865   \n",
       "\n",
       "           x2bar     y2bar     xybar    x2ybar     xy2bar     xedge    xedgey  \\\n",
       "letter                                                                          \n",
       "A       2.755387  2.043093  7.802281  2.338403   8.465146  2.771863  6.321926   \n",
       "B       5.366841  5.571802  7.954308  5.506527   6.652742  3.117493  7.919060   \n",
       "C       5.927989  7.177989  8.773098  7.494565  11.947011  1.991848  8.876359   \n",
       "D       5.921739  6.508075  8.166460  5.111801   5.750311  3.365217  7.813665   \n",
       "E       4.223958  7.585938  8.507812  6.242188  10.341146  2.127604  8.298177   \n",
       "\n",
       "           yedge    yedgex  \n",
       "letter                      \n",
       "A       2.875792  7.468948  \n",
       "B       6.612272  9.100522  \n",
       "C       4.080163  8.555707  \n",
       "D       3.971429  7.628571  \n",
       "E       6.022135  8.506510  "
      ]
     },
     "execution_count": 33,
     "metadata": {},
     "output_type": "execute_result"
    }
   ],
   "source": [
    "letter_mean=letters.groupby(\"letter\").mean()\n",
    "letter_mean.head()"
   ]
  },
  {
   "cell_type": "code",
   "execution_count": 34,
   "metadata": {},
   "outputs": [
    {
     "data": {
      "text/plain": [
       "<matplotlib.axes._subplots.AxesSubplot at 0x16978e91c18>"
      ]
     },
     "execution_count": 34,
     "metadata": {},
     "output_type": "execute_result"
    },
    {
     "data": {
      "image/png": "[encoded data removed]",
      "text/plain": [
       "<Figure size 1296x720 with 2 Axes>"
      ]
     },
     "metadata": {},
     "output_type": "display_data"
    }
   ],
   "source": [
    "plt.figure(figsize=(18,10))\n",
    "sns.heatmap(letter_mean)"
   ]
  },
  {
   "cell_type": "code",
   "execution_count": 35,
   "metadata": {},
   "outputs": [],
   "source": [
    "# Features having varying range so just rescale them.\n"
   ]
  },
  {
   "cell_type": "markdown",
   "metadata": {},
   "source": [
    "# Data Preparation"
   ]
  },
  {
   "cell_type": "markdown",
   "metadata": {},
   "source": [
    "Some Data Preparation steps before modelling.Firstly it is important to rescale the features,since they have varying ranges. \n",
    "For here we have average values"
   ]
  },
  {
   "cell_type": "code",
   "execution_count": 40,
   "metadata": {},
   "outputs": [
    {
     "data": {
      "text/plain": [
       "xbox      4.02\n",
       "ybox      7.04\n",
       "width     5.12\n",
       "height    5.37\n",
       "onpix     3.51\n",
       "xbar      6.90\n",
       "ybar      7.50\n",
       "x2bar     4.63\n",
       "y2bar     5.18\n",
       "xybar     8.28\n",
       "x2ybar    6.45\n",
       "xy2bar    7.93\n",
       "xedge     3.05\n",
       "xedgey    8.34\n",
       "yedge     3.69\n",
       "yedgex    7.80\n",
       "dtype: float64"
      ]
     },
     "execution_count": 40,
     "metadata": {},
     "output_type": "execute_result"
    }
   ],
   "source": [
    "round(letters.drop('letter',axis=1).mean(),2)"
   ]
  },
  {
   "cell_type": "code",
   "execution_count": 41,
   "metadata": {},
   "outputs": [],
   "source": [
    "X=letters.drop(\"letter\",axis=1)\n",
    "y=letters.letter"
   ]
  },
  {
   "cell_type": "code",
   "execution_count": 42,
   "metadata": {},
   "outputs": [],
   "source": [
    "# scaling the features\n",
    "X_scaled=scale(X)\n",
    "\n",
    "# train_test_split\n",
    "X_train,X_test,y_train,y_test=train_test_split(X_scaled,y,test_size=0.3,random_state=4)"
   ]
  },
  {
   "cell_type": "markdown",
   "metadata": {},
   "source": [
    "# Model Building"
   ]
  },
  {
   "cell_type": "code",
   "execution_count": 43,
   "metadata": {},
   "outputs": [],
   "source": [
    "# we build 2 models - linear and non linear with default parameters and compare the values"
   ]
  },
  {
   "cell_type": "code",
   "execution_count": 44,
   "metadata": {},
   "outputs": [
    {
     "data": {
      "text/plain": [
       "SVC(C=1.0, cache_size=200, class_weight=None, coef0=0.0,\n",
       "  decision_function_shape='ovr', degree=3, gamma='auto', kernel='linear',\n",
       "  max_iter=-1, probability=False, random_state=None, shrinking=True,\n",
       "  tol=0.001, verbose=False)"
      ]
     },
     "execution_count": 44,
     "metadata": {},
     "output_type": "execute_result"
    }
   ],
   "source": [
    "model_linear=SVC(kernel=\"linear\")\n",
    "model_linear.fit(X_train,y_train)"
   ]
  },
  {
   "cell_type": "code",
   "execution_count": 46,
   "metadata": {},
   "outputs": [],
   "source": [
    "y_pred=model_linear.predict(X_test)"
   ]
  },
  {
   "cell_type": "code",
   "execution_count": 51,
   "metadata": {},
   "outputs": [
    {
     "name": "stdout",
     "output_type": "stream",
     "text": [
      "[[229   0   0   0   0   0   2   0   0   1   3   0   2   0   1   0   1   3\n",
      "    0   0   1   0   0   0   0   0]\n",
      " [  0 175   0   3   2   0   3   4   1   1   1   0   0   1   0   0   0   7\n",
      "    4   0   0   0   0   1   0   0]\n",
      " [  0   0 191   0   6   1   6   2   0   0   7   0   0   0   1   0   0   0\n",
      "    0   0   1   0   0   0   0   0]\n",
      " [  0   8   0 206   0   1   0   4   0   0   0   0   1   1   0   1   0   1\n",
      "    0   0   5   0   0   0   0   0]\n",
      " [  0   2   5   0 186   2  13   0   0   0   0   3   0   0   0   0   2   2\n",
      "   10   2   0   0   0   0   0   1]\n",
      " [  0   0   0   1   2 182   2   1   0   0   1   0   0   4   0   5   0   0\n",
      "    2   3   0   0   0   0   1   0]\n",
      " [  0   2  15   3   3   1 180   1   0   0   3   1   1   0   1   1   9   4\n",
      "    4   0   1   1   2   1   0   0]\n",
      " [  2   5   2  10   0   4   0 126   0   4  10   0   0   0  10   0   6  15\n",
      "    0   0   2   1   0   3   2   0]\n",
      " [  0   1   0   2   1   6   0   0 203   9   0   2   0   0   1   0   0   0\n",
      "    5   0   0   0   0   3   0   1]\n",
      " [  9   0   0   3   0   4   0   0  14 188   0   0   0   1   2   0   1   0\n",
      "    2   0   0   0   0   1   0   0]\n",
      " [  0   3   2   0   3   0   3   3   0   0 186   3   0   0   0   0   1  15\n",
      "    0   0   0   0   0   6   0   0]\n",
      " [  1   1   7   3   6   0   7   1   0   0   1 192   0   0   0   0   3   0\n",
      "    3   0   0   0   0   3   0   0]\n",
      " [  1   3   0   0   0   0   0   4   0   0   0   0 234   1   1   0   0   2\n",
      "    0   0   1   0   4   0   0   0]\n",
      " [  1   1   1   6   0   1   0   3   0   0   1   0   2 211   1   0   0   3\n",
      "    0   0   0   2   1   0   0   0]\n",
      " [  3   0   5   9   0   0   3  17   0   0   0   0   0   2 194   4   5   5\n",
      "    0   0   1   0   7   0   0   0]\n",
      " [  0   1   0   2   1  18   6   2   0   0   0   0   0   0   1 200   0   0\n",
      "    0   0   0   2   0   0   4   0]\n",
      " [  4   2   2   1   1   0   7   0   0   3   0   1   0   0   4   1 197   0\n",
      "   15   0   0   1   0   0   2   0]\n",
      " [  1  10   0   2   1   0   2   6   0   0  12   0   1   2   0   0   2 215\n",
      "    0   0   0   0   0   0   0   0]\n",
      " [  0   9   1   0   9   7   7   0   1   0   0   3   0   0   0   0   5   1\n",
      "  144   1   0   0   0   0   0  21]\n",
      " [  0   1   0   1   4   0   4   1   0   0   2   0   0   0   0   0   0   0\n",
      "    4 205   2   0   0   0   1   3]\n",
      " [  1   0   0   0   0   0   0   3   0   0   2   0   4   1   1   0   0   0\n",
      "    0   1 245   0   2   0   0   0]\n",
      " [  1   7   0   0   0   0   1   2   0   0   0   0   1   0   0   1   0   0\n",
      "    0   0   0 210   7   0   3   0]\n",
      " [  1   0   0   0   0   0   0   0   0   0   0   0  10   1   1   0   0   0\n",
      "    0   0   4   2 196   0   0   0]\n",
      " [  0   1   0   5   1   1   0   1   1   1   8   1   0   0   1   0   0   1\n",
      "    0   2   0   0   0 207   1   0]\n",
      " [  1   0   0   3   0   3   0   0   0   0   0   0   0   0   0   3   3   0\n",
      "    0   8   1   5   1   0 215   0]\n",
      " [  2   1   0   0   5   0   0   0   0  14   0   0   0   0   0   0   3   1\n",
      "   12   1   0   0   0   0   0 200]]\n"
     ]
    }
   ],
   "source": [
    "\n",
    "print(metrics.confusion_matrix(y_true=y_test,y_pred=y_pred))"
   ]
  },
  {
   "cell_type": "code",
   "execution_count": 50,
   "metadata": {},
   "outputs": [
    {
     "name": "stdout",
     "output_type": "stream",
     "text": [
      "accuracy:0.8528333333333333\n"
     ]
    }
   ],
   "source": [
    "print(\"accuracy:{}\".format(metrics.accuracy_score(y_pred=y_pred,y_true=y_test)))\n"
   ]
  },
  {
   "cell_type": "markdown",
   "metadata": {},
   "source": [
    "***Linear MOdel*** gives a approx 85.28 % accuracy.\n",
    "\n",
    "NOw Check out ***nonLinear model***  "
   ]
  },
  {
   "cell_type": "code",
   "execution_count": 52,
   "metadata": {},
   "outputs": [],
   "source": [
    "# Non linear model using rbf with C=1 nd  default value of gamma\n",
    "\n",
    "# model\n",
    "non_linear_model=SVC(kernel=\"rbf\")\n",
    "\n",
    "#fit\n",
    "non_linear_model.fit(X_train,y_train)\n",
    "\n",
    "#Predict\n",
    "y_pred=non_linear_model.predict(X_test)"
   ]
  },
  {
   "cell_type": "code",
   "execution_count": 53,
   "metadata": {},
   "outputs": [
    {
     "name": "stdout",
     "output_type": "stream",
     "text": [
      "[[238   0   1   1   0   0   0   0   0   0   1   0   1   0   0   0   0   0\n",
      "    0   0   0   0   0   0   1   0]\n",
      " [  0 193   0   4   1   0   0   1   0   0   0   0   0   0   0   0   0   1\n",
      "    1   1   0   0   0   1   0   0]\n",
      " [  0   0 200   0   4   0   6   1   0   0   1   0   0   0   2   0   0   0\n",
      "    0   0   1   0   0   0   0   0]\n",
      " [  0   3   0 216   0   0   0   7   0   0   0   0   0   1   0   0   0   1\n",
      "    0   0   0   0   0   0   0   0]\n",
      " [  0   1   1   0 211   1   9   0   0   0   0   0   0   0   0   0   3   1\n",
      "    0   0   0   0   0   0   0   1]\n",
      " [  0   1   0   0   1 197   0   0   0   0   0   0   0   1   1   0   0   0\n",
      "    0   3   0   0   0   0   0   0]\n",
      " [  0   0   0   1   0   0 224   1   0   0   0   0   0   0   4   0   2   2\n",
      "    0   0   0   0   0   0   0   0]\n",
      " [  0   4   1   8   0   0   1 163   0   0   1   0   0   0   4   0   5   9\n",
      "    0   0   3   0   0   2   1   0]\n",
      " [  0   1   0   0   0   3   0   0 216   9   0   0   0   0   0   0   0   0\n",
      "    4   0   0   0   0   1   0   0]\n",
      " [  0   0   0   3   0   1   0   1   6 211   0   0   0   1   1   0   1   0\n",
      "    0   0   0   0   0   0   0   0]\n",
      " [  0   0   0   0   0   0   0   2   0   0 211   0   0   0   0   0   0   9\n",
      "    0   0   0   0   0   3   0   0]\n",
      " [  0   1   3   0   5   0   5   0   0   0   0 208   0   0   0   0   0   3\n",
      "    0   0   0   0   0   2   0   1]\n",
      " [  0   7   0   0   0   0   0   1   0   0   0   0 240   1   0   0   0   0\n",
      "    0   0   0   0   2   0   0   0]\n",
      " [  0   3   0   3   0   0   0   1   0   0   0   0   2 221   2   0   0   2\n",
      "    0   0   0   0   0   0   0   0]\n",
      " [  0   1   0   3   0   0   1   0   0   0   0   0   0   0 240   0   3   3\n",
      "    0   0   1   0   3   0   0   0]\n",
      " [  0   2   0   0   2  11   2   0   0   0   0   1   0   0   0 216   3   0\n",
      "    0   0   0   0   0   0   0   0]\n",
      " [  1   2   0   0   1   0   0   0   0   0   0   0   0   0   2   0 235   0\n",
      "    0   0   0   0   0   0   0   0]\n",
      " [  0   8   0   1   1   0   0   2   0   0   5   0   0   1   0   0   0 236\n",
      "    0   0   0   0   0   0   0   0]\n",
      " [  0   1   0   0   1   2   0   0   0   0   0   0   0   0   0   0   0   1\n",
      "  203   0   0   0   0   0   0   1]\n",
      " [  0   2   0   1   1   2   0   2   0   0   1   0   0   0   0   0   0   0\n",
      "    1 215   2   0   0   0   0   1]\n",
      " [  0   0   0   0   0   0   1   0   0   0   0   0   1   1   0   0   0   0\n",
      "    0   0 254   1   2   0   0   0]\n",
      " [  0   7   0   0   0   1   1   0   0   0   0   0   0   2   0   0   0   0\n",
      "    0   0   0 216   2   0   4   0]\n",
      " [  0   0   0   0   0   0   0   0   0   0   0   0   8   1   0   0   0   0\n",
      "    0   0   4   0 202   0   0   0]\n",
      " [  0   1   0   3   1   0   0   0   1   0   2   0   0   0   1   0   0   0\n",
      "    0   0   0   0   0 223   0   0]\n",
      " [  0   0   0   0   0   1   0   0   0   0   0   0   1   0   0   2   1   0\n",
      "    0   0   0   1   0   0 237   0]\n",
      " [  0   0   0   0   1   0   0   0   0   1   0   0   0   0   0   0   2   1\n",
      "    1   0   0   0   0   0   0 233]]\n"
     ]
    }
   ],
   "source": [
    "print(metrics.confusion_matrix(y_pred=y_pred,y_true=y_test))"
   ]
  },
  {
   "cell_type": "code",
   "execution_count": 54,
   "metadata": {},
   "outputs": [
    {
     "name": "stdout",
     "output_type": "stream",
     "text": [
      "Accuracy :0.9431666666666667\n"
     ]
    }
   ],
   "source": [
    "print(\"Accuracy :{}\".format(metrics.accuracy_score(y_pred,y_test)))"
   ]
  },
  {
   "cell_type": "markdown",
   "metadata": {},
   "source": [
    "Hence Non_linear model gives approx 93% accuracy.thus,going forward ,choose the hyperparameters corresponding to non_linear model"
   ]
  },
  {
   "cell_type": "markdown",
   "metadata": {},
   "source": [
    "# Grid Search :Hyperparameter Tuning"
   ]
  },
  {
   "cell_type": "markdown",
   "metadata": {},
   "source": [
    "Tune the model to find the optimal values of C and gamma corresponding to an RBF kernel. We will use 5 kfolds"
   ]
  },
  {
   "cell_type": "code",
   "execution_count": 59,
   "metadata": {},
   "outputs": [
    {
     "name": "stdout",
     "output_type": "stream",
     "text": [
      "Fitting 5 folds for each of 12 candidates, totalling 60 fits\n"
     ]
    },
    {
     "name": "stderr",
     "output_type": "stream",
     "text": [
      "[Parallel(n_jobs=1)]: Done  60 out of  60 | elapsed: 19.9min finished\n"
     ]
    },
    {
     "data": {
      "text/plain": [
       "GridSearchCV(cv=KFold(n_splits=5, random_state=4, shuffle=True),\n",
       "       error_score='raise',\n",
       "       estimator=SVC(C=1.0, cache_size=200, class_weight=None, coef0=0.0,\n",
       "  decision_function_shape='ovr', degree=3, gamma='auto', kernel='rbf',\n",
       "  max_iter=-1, probability=False, random_state=None, shrinking=True,\n",
       "  tol=0.001, verbose=False),\n",
       "       fit_params=None, iid=True, n_jobs=1,\n",
       "       param_grid=[{'gamma': [0.01, 0.001, 0.0001], 'C': [1, 10, 100, 1000]}],\n",
       "       pre_dispatch='2*n_jobs', refit=True, return_train_score=True,\n",
       "       scoring='accuracy', verbose=1)"
      ]
     },
     "execution_count": 59,
     "metadata": {},
     "output_type": "execute_result"
    }
   ],
   "source": [
    "folds=KFold(n_splits=5,shuffle=True,random_state=4)\n",
    "\n",
    "hyper_params=[{\"gamma\":[1e-2,1e-3,1e-4],\"C\":[1,10,100,1000]}]\n",
    "\n",
    "# Specify model\n",
    "model=SVC(kernel=\"rbf\")\n",
    "\n",
    "model_cv=GridSearchCV(estimator=model,cv=folds,scoring=\"accuracy\",verbose=1,return_train_score=True,param_grid=hyper_params)\n",
    "\n",
    "model_cv.fit(X_train,y_train)"
   ]
  },
  {
   "cell_type": "code",
   "execution_count": 60,
   "metadata": {},
   "outputs": [
    {
     "data": {
      "text/html": [
       "<div>\n",
       "<style scoped>\n",
       "    .dataframe tbody tr th:only-of-type {\n",
       "        vertical-align: middle;\n",
       "    }\n",
       "\n",
       "    .dataframe tbody tr th {\n",
       "        vertical-align: top;\n",
       "    }\n",
       "\n",
       "    .dataframe thead th {\n",
       "        text-align: right;\n",
       "    }\n",
       "</style>\n",
       "<table border=\"1\" class=\"dataframe\">\n",
       "  <thead>\n",
       "    <tr style=\"text-align: right;\">\n",
       "      <th></th>\n",
       "      <th>mean_fit_time</th>\n",
       "      <th>std_fit_time</th>\n",
       "      <th>mean_score_time</th>\n",
       "      <th>std_score_time</th>\n",
       "      <th>param_C</th>\n",
       "      <th>param_gamma</th>\n",
       "      <th>params</th>\n",
       "      <th>split0_test_score</th>\n",
       "      <th>split1_test_score</th>\n",
       "      <th>split2_test_score</th>\n",
       "      <th>...</th>\n",
       "      <th>mean_test_score</th>\n",
       "      <th>std_test_score</th>\n",
       "      <th>rank_test_score</th>\n",
       "      <th>split0_train_score</th>\n",
       "      <th>split1_train_score</th>\n",
       "      <th>split2_train_score</th>\n",
       "      <th>split3_train_score</th>\n",
       "      <th>split4_train_score</th>\n",
       "      <th>mean_train_score</th>\n",
       "      <th>std_train_score</th>\n",
       "    </tr>\n",
       "  </thead>\n",
       "  <tbody>\n",
       "    <tr>\n",
       "      <th>0</th>\n",
       "      <td>5.555185</td>\n",
       "      <td>0.133919</td>\n",
       "      <td>3.021865</td>\n",
       "      <td>0.111008</td>\n",
       "      <td>1</td>\n",
       "      <td>0.01</td>\n",
       "      <td>{'C': 1, 'gamma': 0.01}</td>\n",
       "      <td>0.842500</td>\n",
       "      <td>0.833571</td>\n",
       "      <td>0.823571</td>\n",
       "      <td>...</td>\n",
       "      <td>0.833786</td>\n",
       "      <td>0.006809</td>\n",
       "      <td>7</td>\n",
       "      <td>0.839464</td>\n",
       "      <td>0.848214</td>\n",
       "      <td>0.844375</td>\n",
       "      <td>0.844554</td>\n",
       "      <td>0.847857</td>\n",
       "      <td>0.844893</td>\n",
       "      <td>0.003152</td>\n",
       "    </tr>\n",
       "    <tr>\n",
       "      <th>1</th>\n",
       "      <td>11.489600</td>\n",
       "      <td>0.155117</td>\n",
       "      <td>3.661612</td>\n",
       "      <td>0.020192</td>\n",
       "      <td>1</td>\n",
       "      <td>0.001</td>\n",
       "      <td>{'C': 1, 'gamma': 0.001}</td>\n",
       "      <td>0.667857</td>\n",
       "      <td>0.668571</td>\n",
       "      <td>0.662500</td>\n",
       "      <td>...</td>\n",
       "      <td>0.664571</td>\n",
       "      <td>0.003680</td>\n",
       "      <td>11</td>\n",
       "      <td>0.663036</td>\n",
       "      <td>0.664196</td>\n",
       "      <td>0.685446</td>\n",
       "      <td>0.669821</td>\n",
       "      <td>0.672500</td>\n",
       "      <td>0.671000</td>\n",
       "      <td>0.008026</td>\n",
       "    </tr>\n",
       "    <tr>\n",
       "      <th>2</th>\n",
       "      <td>22.148345</td>\n",
       "      <td>0.395671</td>\n",
       "      <td>3.932687</td>\n",
       "      <td>0.123096</td>\n",
       "      <td>1</td>\n",
       "      <td>0.0001</td>\n",
       "      <td>{'C': 1, 'gamma': 0.0001}</td>\n",
       "      <td>0.196071</td>\n",
       "      <td>0.170357</td>\n",
       "      <td>0.221071</td>\n",
       "      <td>...</td>\n",
       "      <td>0.199214</td>\n",
       "      <td>0.017983</td>\n",
       "      <td>12</td>\n",
       "      <td>0.197232</td>\n",
       "      <td>0.171161</td>\n",
       "      <td>0.237321</td>\n",
       "      <td>0.211518</td>\n",
       "      <td>0.209554</td>\n",
       "      <td>0.205357</td>\n",
       "      <td>0.021507</td>\n",
       "    </tr>\n",
       "    <tr>\n",
       "      <th>3</th>\n",
       "      <td>3.691481</td>\n",
       "      <td>0.053259</td>\n",
       "      <td>1.821899</td>\n",
       "      <td>0.027245</td>\n",
       "      <td>10</td>\n",
       "      <td>0.01</td>\n",
       "      <td>{'C': 10, 'gamma': 0.01}</td>\n",
       "      <td>0.920357</td>\n",
       "      <td>0.899286</td>\n",
       "      <td>0.911786</td>\n",
       "      <td>...</td>\n",
       "      <td>0.907786</td>\n",
       "      <td>0.008346</td>\n",
       "      <td>3</td>\n",
       "      <td>0.926339</td>\n",
       "      <td>0.927232</td>\n",
       "      <td>0.927054</td>\n",
       "      <td>0.927054</td>\n",
       "      <td>0.929643</td>\n",
       "      <td>0.927464</td>\n",
       "      <td>0.001132</td>\n",
       "    </tr>\n",
       "    <tr>\n",
       "      <th>4</th>\n",
       "      <td>5.446564</td>\n",
       "      <td>0.035933</td>\n",
       "      <td>2.957233</td>\n",
       "      <td>0.063942</td>\n",
       "      <td>10</td>\n",
       "      <td>0.001</td>\n",
       "      <td>{'C': 10, 'gamma': 0.001}</td>\n",
       "      <td>0.823214</td>\n",
       "      <td>0.810714</td>\n",
       "      <td>0.809643</td>\n",
       "      <td>...</td>\n",
       "      <td>0.813786</td>\n",
       "      <td>0.006868</td>\n",
       "      <td>8</td>\n",
       "      <td>0.817232</td>\n",
       "      <td>0.824107</td>\n",
       "      <td>0.822143</td>\n",
       "      <td>0.821339</td>\n",
       "      <td>0.826250</td>\n",
       "      <td>0.822214</td>\n",
       "      <td>0.003015</td>\n",
       "    </tr>\n",
       "    <tr>\n",
       "      <th>5</th>\n",
       "      <td>11.337733</td>\n",
       "      <td>0.061751</td>\n",
       "      <td>3.683957</td>\n",
       "      <td>0.049134</td>\n",
       "      <td>10</td>\n",
       "      <td>0.0001</td>\n",
       "      <td>{'C': 10, 'gamma': 0.0001}</td>\n",
       "      <td>0.666429</td>\n",
       "      <td>0.671071</td>\n",
       "      <td>0.663929</td>\n",
       "      <td>...</td>\n",
       "      <td>0.665214</td>\n",
       "      <td>0.003518</td>\n",
       "      <td>10</td>\n",
       "      <td>0.662768</td>\n",
       "      <td>0.664286</td>\n",
       "      <td>0.685714</td>\n",
       "      <td>0.669732</td>\n",
       "      <td>0.672232</td>\n",
       "      <td>0.670946</td>\n",
       "      <td>0.008154</td>\n",
       "    </tr>\n",
       "    <tr>\n",
       "      <th>6</th>\n",
       "      <td>4.307903</td>\n",
       "      <td>0.070314</td>\n",
       "      <td>1.258236</td>\n",
       "      <td>0.010562</td>\n",
       "      <td>100</td>\n",
       "      <td>0.01</td>\n",
       "      <td>{'C': 100, 'gamma': 0.01}</td>\n",
       "      <td>0.943929</td>\n",
       "      <td>0.945357</td>\n",
       "      <td>0.944643</td>\n",
       "      <td>...</td>\n",
       "      <td>0.944500</td>\n",
       "      <td>0.004095</td>\n",
       "      <td>2</td>\n",
       "      <td>0.978214</td>\n",
       "      <td>0.978929</td>\n",
       "      <td>0.979018</td>\n",
       "      <td>0.979107</td>\n",
       "      <td>0.980000</td>\n",
       "      <td>0.979054</td>\n",
       "      <td>0.000569</td>\n",
       "    </tr>\n",
       "    <tr>\n",
       "      <th>7</th>\n",
       "      <td>4.287712</td>\n",
       "      <td>0.060997</td>\n",
       "      <td>2.027151</td>\n",
       "      <td>0.046149</td>\n",
       "      <td>100</td>\n",
       "      <td>0.001</td>\n",
       "      <td>{'C': 100, 'gamma': 0.001}</td>\n",
       "      <td>0.876429</td>\n",
       "      <td>0.850000</td>\n",
       "      <td>0.862857</td>\n",
       "      <td>...</td>\n",
       "      <td>0.859929</td>\n",
       "      <td>0.009637</td>\n",
       "      <td>5</td>\n",
       "      <td>0.874018</td>\n",
       "      <td>0.880000</td>\n",
       "      <td>0.876250</td>\n",
       "      <td>0.876607</td>\n",
       "      <td>0.879732</td>\n",
       "      <td>0.877321</td>\n",
       "      <td>0.002261</td>\n",
       "    </tr>\n",
       "    <tr>\n",
       "      <th>8</th>\n",
       "      <td>5.524264</td>\n",
       "      <td>0.043755</td>\n",
       "      <td>2.949789</td>\n",
       "      <td>0.015048</td>\n",
       "      <td>100</td>\n",
       "      <td>0.0001</td>\n",
       "      <td>{'C': 100, 'gamma': 0.0001}</td>\n",
       "      <td>0.819286</td>\n",
       "      <td>0.808929</td>\n",
       "      <td>0.801786</td>\n",
       "      <td>...</td>\n",
       "      <td>0.808214</td>\n",
       "      <td>0.007703</td>\n",
       "      <td>9</td>\n",
       "      <td>0.811161</td>\n",
       "      <td>0.819107</td>\n",
       "      <td>0.816339</td>\n",
       "      <td>0.817500</td>\n",
       "      <td>0.820625</td>\n",
       "      <td>0.816946</td>\n",
       "      <td>0.003236</td>\n",
       "    </tr>\n",
       "    <tr>\n",
       "      <th>9</th>\n",
       "      <td>4.867886</td>\n",
       "      <td>0.058798</td>\n",
       "      <td>1.153119</td>\n",
       "      <td>0.011695</td>\n",
       "      <td>1000</td>\n",
       "      <td>0.01</td>\n",
       "      <td>{'C': 1000, 'gamma': 0.01}</td>\n",
       "      <td>0.955000</td>\n",
       "      <td>0.958929</td>\n",
       "      <td>0.954643</td>\n",
       "      <td>...</td>\n",
       "      <td>0.953000</td>\n",
       "      <td>0.005531</td>\n",
       "      <td>1</td>\n",
       "      <td>0.997500</td>\n",
       "      <td>0.996786</td>\n",
       "      <td>0.997232</td>\n",
       "      <td>0.997500</td>\n",
       "      <td>0.997411</td>\n",
       "      <td>0.997286</td>\n",
       "      <td>0.000268</td>\n",
       "    </tr>\n",
       "    <tr>\n",
       "      <th>10</th>\n",
       "      <td>5.310751</td>\n",
       "      <td>0.087547</td>\n",
       "      <td>1.448958</td>\n",
       "      <td>0.113690</td>\n",
       "      <td>1000</td>\n",
       "      <td>0.001</td>\n",
       "      <td>{'C': 1000, 'gamma': 0.001}</td>\n",
       "      <td>0.907500</td>\n",
       "      <td>0.890714</td>\n",
       "      <td>0.905714</td>\n",
       "      <td>...</td>\n",
       "      <td>0.900357</td>\n",
       "      <td>0.007078</td>\n",
       "      <td>4</td>\n",
       "      <td>0.929018</td>\n",
       "      <td>0.931518</td>\n",
       "      <td>0.927679</td>\n",
       "      <td>0.930357</td>\n",
       "      <td>0.932500</td>\n",
       "      <td>0.930214</td>\n",
       "      <td>0.001721</td>\n",
       "    </tr>\n",
       "    <tr>\n",
       "      <th>11</th>\n",
       "      <td>4.765182</td>\n",
       "      <td>0.252844</td>\n",
       "      <td>2.126491</td>\n",
       "      <td>0.143610</td>\n",
       "      <td>1000</td>\n",
       "      <td>0.0001</td>\n",
       "      <td>{'C': 1000, 'gamma': 0.0001}</td>\n",
       "      <td>0.860357</td>\n",
       "      <td>0.838929</td>\n",
       "      <td>0.850000</td>\n",
       "      <td>...</td>\n",
       "      <td>0.844429</td>\n",
       "      <td>0.010441</td>\n",
       "      <td>6</td>\n",
       "      <td>0.855714</td>\n",
       "      <td>0.860625</td>\n",
       "      <td>0.858571</td>\n",
       "      <td>0.857589</td>\n",
       "      <td>0.862321</td>\n",
       "      <td>0.858964</td>\n",
       "      <td>0.002308</td>\n",
       "    </tr>\n",
       "  </tbody>\n",
       "</table>\n",
       "<p>12 rows × 22 columns</p>\n",
       "</div>"
      ],
      "text/plain": [
       "    mean_fit_time  std_fit_time  mean_score_time  std_score_time param_C  \\\n",
       "0        5.555185      0.133919         3.021865        0.111008       1   \n",
       "1       11.489600      0.155117         3.661612        0.020192       1   \n",
       "2       22.148345      0.395671         3.932687        0.123096       1   \n",
       "3        3.691481      0.053259         1.821899        0.027245      10   \n",
       "4        5.446564      0.035933         2.957233        0.063942      10   \n",
       "5       11.337733      0.061751         3.683957        0.049134      10   \n",
       "6        4.307903      0.070314         1.258236        0.010562     100   \n",
       "7        4.287712      0.060997         2.027151        0.046149     100   \n",
       "8        5.524264      0.043755         2.949789        0.015048     100   \n",
       "9        4.867886      0.058798         1.153119        0.011695    1000   \n",
       "10       5.310751      0.087547         1.448958        0.113690    1000   \n",
       "11       4.765182      0.252844         2.126491        0.143610    1000   \n",
       "\n",
       "   param_gamma                        params  split0_test_score  \\\n",
       "0         0.01       {'C': 1, 'gamma': 0.01}           0.842500   \n",
       "1        0.001      {'C': 1, 'gamma': 0.001}           0.667857   \n",
       "2       0.0001     {'C': 1, 'gamma': 0.0001}           0.196071   \n",
       "3         0.01      {'C': 10, 'gamma': 0.01}           0.920357   \n",
       "4        0.001     {'C': 10, 'gamma': 0.001}           0.823214   \n",
       "5       0.0001    {'C': 10, 'gamma': 0.0001}           0.666429   \n",
       "6         0.01     {'C': 100, 'gamma': 0.01}           0.943929   \n",
       "7        0.001    {'C': 100, 'gamma': 0.001}           0.876429   \n",
       "8       0.0001   {'C': 100, 'gamma': 0.0001}           0.819286   \n",
       "9         0.01    {'C': 1000, 'gamma': 0.01}           0.955000   \n",
       "10       0.001   {'C': 1000, 'gamma': 0.001}           0.907500   \n",
       "11      0.0001  {'C': 1000, 'gamma': 0.0001}           0.860357   \n",
       "\n",
       "    split1_test_score  split2_test_score       ...         mean_test_score  \\\n",
       "0            0.833571           0.823571       ...                0.833786   \n",
       "1            0.668571           0.662500       ...                0.664571   \n",
       "2            0.170357           0.221071       ...                0.199214   \n",
       "3            0.899286           0.911786       ...                0.907786   \n",
       "4            0.810714           0.809643       ...                0.813786   \n",
       "5            0.671071           0.663929       ...                0.665214   \n",
       "6            0.945357           0.944643       ...                0.944500   \n",
       "7            0.850000           0.862857       ...                0.859929   \n",
       "8            0.808929           0.801786       ...                0.808214   \n",
       "9            0.958929           0.954643       ...                0.953000   \n",
       "10           0.890714           0.905714       ...                0.900357   \n",
       "11           0.838929           0.850000       ...                0.844429   \n",
       "\n",
       "    std_test_score  rank_test_score  split0_train_score  split1_train_score  \\\n",
       "0         0.006809                7            0.839464            0.848214   \n",
       "1         0.003680               11            0.663036            0.664196   \n",
       "2         0.017983               12            0.197232            0.171161   \n",
       "3         0.008346                3            0.926339            0.927232   \n",
       "4         0.006868                8            0.817232            0.824107   \n",
       "5         0.003518               10            0.662768            0.664286   \n",
       "6         0.004095                2            0.978214            0.978929   \n",
       "7         0.009637                5            0.874018            0.880000   \n",
       "8         0.007703                9            0.811161            0.819107   \n",
       "9         0.005531                1            0.997500            0.996786   \n",
       "10        0.007078                4            0.929018            0.931518   \n",
       "11        0.010441                6            0.855714            0.860625   \n",
       "\n",
       "    split2_train_score  split3_train_score  split4_train_score  \\\n",
       "0             0.844375            0.844554            0.847857   \n",
       "1             0.685446            0.669821            0.672500   \n",
       "2             0.237321            0.211518            0.209554   \n",
       "3             0.927054            0.927054            0.929643   \n",
       "4             0.822143            0.821339            0.826250   \n",
       "5             0.685714            0.669732            0.672232   \n",
       "6             0.979018            0.979107            0.980000   \n",
       "7             0.876250            0.876607            0.879732   \n",
       "8             0.816339            0.817500            0.820625   \n",
       "9             0.997232            0.997500            0.997411   \n",
       "10            0.927679            0.930357            0.932500   \n",
       "11            0.858571            0.857589            0.862321   \n",
       "\n",
       "    mean_train_score  std_train_score  \n",
       "0           0.844893         0.003152  \n",
       "1           0.671000         0.008026  \n",
       "2           0.205357         0.021507  \n",
       "3           0.927464         0.001132  \n",
       "4           0.822214         0.003015  \n",
       "5           0.670946         0.008154  \n",
       "6           0.979054         0.000569  \n",
       "7           0.877321         0.002261  \n",
       "8           0.816946         0.003236  \n",
       "9           0.997286         0.000268  \n",
       "10          0.930214         0.001721  \n",
       "11          0.858964         0.002308  \n",
       "\n",
       "[12 rows x 22 columns]"
      ]
     },
     "execution_count": 60,
     "metadata": {},
     "output_type": "execute_result"
    }
   ],
   "source": [
    "cv_results=pd.DataFrame(model_cv.cv_results_)\n",
    "cv_results"
   ]
  },
  {
   "cell_type": "code",
   "execution_count": 61,
   "metadata": {},
   "outputs": [],
   "source": [
    "cv_results.param_C=cv_results.param_C.astype(int)"
   ]
  },
  {
   "cell_type": "code",
   "execution_count": 67,
   "metadata": {},
   "outputs": [
    {
     "data": {
      "text/plain": [
       "<matplotlib.legend.Legend at 0x1697b5a59e8>"
      ]
     },
     "execution_count": 67,
     "metadata": {},
     "output_type": "execute_result"
    },
    {
     "data": {
      "image/png": "[encoded data removed]",
      "text/plain": [
       "<Figure size 1152x432 with 3 Axes>"
      ]
     },
     "metadata": {},
     "output_type": "display_data"
    }
   ],
   "source": [
    "## ploting\n",
    "plt.figure(figsize=(16,6))\n",
    "\n",
    "plt.subplot(131)\n",
    "gamma_01=cv_results[cv_results[\"param_gamma\"]==0.01]\n",
    "\n",
    "plt.plot(gamma_01.param_C,gamma_01.mean_test_score)\n",
    "plt.plot(gamma_01.param_C,gamma_01.mean_train_score)\n",
    "plt.title(\"gamma_01 hai ye\")\n",
    "plt.xlabel(\"C\")\n",
    "plt.ylabel(\"Accuracy\")\n",
    "plt.ylim(0.6,1)\n",
    "plt.legend([\"test_accuracy\",\"train_accuracy\"],loc=\"upper left\")\n",
    "plt.xscale(\"log\")\n",
    "\n",
    "plt.subplot(132)\n",
    "gamma_001=cv_results[cv_results.param_gamma==0.001]\n",
    "\n",
    "plt.plot(gamma_001.param_C,gamma_001.mean_test_score)\n",
    "plt.plot(gamma_001.param_C,gamma_001.mean_train_score)\n",
    "plt.title(\"Gamma_001 hai ye\")\n",
    "plt.xlabel(\"C\")\n",
    "plt.ylim(0.6,1)\n",
    "plt.ylabel(\"Accuarcy\")\n",
    "plt.xscale(\"log\")\n",
    "plt.legend([\"test_accuracy\",\"train_accuracy\"],loc=\"upper left\")\n",
    "\n",
    "plt.subplot(133)\n",
    "gamma_0001=cv_results[cv_results.param_gamma==0.0001]\n",
    "\n",
    "plt.plot(gamma_0001.param_C,gamma_0001.mean_test_score)\n",
    "plt.plot(gamma_0001.param_C,gamma_0001.mean_train_score)\n",
    "plt.title(\"Gamma_0001 hai ye\")\n",
    "plt.xlabel(\"C\")\n",
    "plt.ylim(0.6,1)\n",
    "plt.ylabel(\"Accuarcy\")\n",
    "plt.xscale(\"log\")\n",
    "plt.legend([\"test_accuracy\",\"train_accuracy\"],loc=\"upper left\")"
   ]
  },
  {
   "cell_type": "markdown",
   "metadata": {},
   "source": [
    "Some USeful insights:\n",
    "- Non linear model(high gamma) perform *much better* than the linear ones.\n",
    "- At any value of gamma, a high value of C leads to better performance\n",
    "- None of the models tend to overfit, since training and test accuracies closely follow each other.\n",
    "\n",
    "This suggest that the data and problem is **inherently non-linear** in nature, and complex model outcast the Linear Model."
   ]
  },
  {
   "cell_type": "code",
   "execution_count": 68,
   "metadata": {},
   "outputs": [],
   "source": [
    "# Choosing best hyperparameters"
   ]
  },
  {
   "cell_type": "code",
   "execution_count": 69,
   "metadata": {},
   "outputs": [
    {
     "name": "stdout",
     "output_type": "stream",
     "text": [
      "The best test score 0.953 corresponding  to hyperparameter {'C': 1000, 'gamma': 0.01}\n"
     ]
    }
   ],
   "source": [
    "best_score=model_cv.best_score_\n",
    "best_hyperparams_=model_cv.best_params_\n",
    "\n",
    "print(\"The best test score {} corresponding  to hyperparameter {}\".format(best_score,best_hyperparams_))"
   ]
  },
  {
   "cell_type": "markdown",
   "metadata": {},
   "source": [
    "# Building and evaluating  the final Model"
   ]
  },
  {
   "cell_type": "code",
   "execution_count": 71,
   "metadata": {},
   "outputs": [
    {
     "name": "stdout",
     "output_type": "stream",
     "text": [
      "accuracy :0.9538333333333333\n",
      "[[239   1   1   0   0   0   1   0   0   0   0   0   0   0   0   0   0   0\n",
      "    0   0   0   0   0   0   1   0]\n",
      " [  0 196   0   2   1   0   0   1   0   0   0   0   0   0   0   0   0   0\n",
      "    0   0   0   3   0   0   0   0]\n",
      " [  0   0 205   0   2   0   3   1   0   0   1   0   0   1   1   0   0   0\n",
      "    0   0   1   0   0   0   0   0]\n",
      " [  0   3   0 217   0   0   0   4   0   0   0   0   0   2   0   1   0   0\n",
      "    0   0   1   0   0   0   0   0]\n",
      " [  0   0   0   0 217   0   4   0   0   0   0   3   0   0   0   0   1   0\n",
      "    0   0   0   0   0   0   0   3]\n",
      " [  0   0   0   1   1 195   0   1   0   0   0   0   0   1   0   4   0   0\n",
      "    0   0   0   1   0   0   0   0]\n",
      " [  0   0   4   3   2   0 223   1   0   0   0   0   0   0   1   0   0   0\n",
      "    0   0   0   0   0   0   0   0]\n",
      " [  0   4   0   9   0   0   1 176   0   2   3   0   0   0   2   0   2   2\n",
      "    0   0   1   0   0   0   0   0]\n",
      " [  0   0   0   0   0   4   1   0 221   6   0   0   0   0   0   0   0   0\n",
      "    1   0   0   0   0   1   0   0]\n",
      " [  1   0   0   1   0   3   0   0   8 208   0   0   0   1   1   0   1   0\n",
      "    0   0   1   0   0   0   0   0]\n",
      " [  0   0   1   0   2   0   0   4   0   0 213   0   0   0   0   0   0   1\n",
      "    0   0   0   0   0   4   0   0]\n",
      " [  0   1   4   0   2   0   1   2   0   0   1 216   0   0   0   0   0   0\n",
      "    0   1   0   0   0   0   0   0]\n",
      " [  1   1   0   0   0   0   0   1   0   0   0   0 243   1   1   0   0   0\n",
      "    0   0   1   0   2   0   0   0]\n",
      " [  0   1   1   4   0   1   0   1   0   0   0   0   2 220   1   0   0   2\n",
      "    0   0   0   0   1   0   0   0]\n",
      " [  0   0   2   4   0   0   3   1   0   1   0   0   0   0 238   0   0   3\n",
      "    0   0   1   0   2   0   0   0]\n",
      " [  0   0   0   0   1   6   0   0   0   0   0   0   0   0   0 226   3   0\n",
      "    0   0   0   0   0   0   1   0]\n",
      " [  0   0   0   0   1   0   2   0   0   0   0   0   0   0   2   0 236   0\n",
      "    0   0   0   0   0   0   0   0]\n",
      " [  0   6   0   0   0   0   0   2   0   0   7   0   0   3   0   0   0 236\n",
      "    0   0   0   0   0   0   0   0]\n",
      " [  0   2   0   0   0   2   0   0   0   0   0   0   0   0   0   0   0   1\n",
      "  204   0   0   0   0   0   0   0]\n",
      " [  0   2   1   0   0   3   0   0   0   0   0   0   0   0   0   0   0   0\n",
      "    0 221   0   0   0   0   1   0]\n",
      " [  0   0   0   0   0   0   0   1   0   0   0   0   0   2   0   0   0   0\n",
      "    0   0 256   0   1   0   0   0]\n",
      " [  0   3   0   0   0   0   1   0   0   0   0   0   0   0   0   1   0   0\n",
      "    0   1   0 224   1   0   2   0]\n",
      " [  0   0   0   0   0   0   0   1   0   0   0   0   4   1   1   0   0   0\n",
      "    0   0   4   1 203   0   0   0]\n",
      " [  0   1   0   3   2   1   0   1   0   0   1   1   0   0   0   0   0   0\n",
      "    0   0   0   0   0 222   0   0]\n",
      " [  0   0   0   0   0   1   0   0   0   0   0   0   0   1   0   4   0   0\n",
      "    0   3   0   0   1   0 233   0]\n",
      " [  0   0   0   0   1   0   0   0   0   1   0   0   0   0   0   0   1   0\n",
      "    0   1   0   0   0   0   0 235]]\n"
     ]
    }
   ],
   "source": [
    "model=SVC(kernel=\"rbf\",C=1000,gamma=0.01)\n",
    "\n",
    "model.fit(X_train,y_train)\n",
    "\n",
    "y_pred=model.predict(X_test)\n",
    "\n",
    "print(\"accuracy :{}\".format(metrics.accuracy_score(y_pred,y_test)))\n",
    "\n",
    "print(confusion_matrix(y_test,y_pred))"
   ]
  },
  {
   "cell_type": "code",
   "execution_count": null,
   "metadata": {},
   "outputs": [],
   "source": []
  }
 ],
 "metadata": {
  "kernelspec": {
   "display_name": "Python 3",
   "language": "python",
   "name": "python3"
  },
  "language_info": {
   "codemirror_mode": {
    "name": "ipython",
    "version": 3
   },
   "file_extension": ".py",
   "mimetype": "text/x-python",
   "name": "python",
   "nbconvert_exporter": "python",
   "pygments_lexer": "ipython3",
   "version": "3.6.5"
  }
 },
 "nbformat": 4,
 "nbformat_minor": 2
}
